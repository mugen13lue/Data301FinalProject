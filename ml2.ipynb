{
 "cells": [
  {
   "cell_type": "markdown",
   "metadata": {},
   "source": [
    "Predicting the success of a project"
   ]
  },
  {
   "cell_type": "code",
   "execution_count": 1,
   "metadata": {},
   "outputs": [],
   "source": [
    "path = \"~/calpoly/Data301/Data301FinalProject/datasets/processed/final/ks201901.csv\""
   ]
  },
  {
   "cell_type": "code",
   "execution_count": 2,
   "metadata": {},
   "outputs": [
    {
     "data": {
      "text/html": [
       "<div>\n",
       "<style scoped>\n",
       "    .dataframe tbody tr th:only-of-type {\n",
       "        vertical-align: middle;\n",
       "    }\n",
       "\n",
       "    .dataframe tbody tr th {\n",
       "        vertical-align: top;\n",
       "    }\n",
       "\n",
       "    .dataframe thead th {\n",
       "        text-align: right;\n",
       "    }\n",
       "</style>\n",
       "<table border=\"1\" class=\"dataframe\">\n",
       "  <thead>\n",
       "    <tr style=\"text-align: right;\">\n",
       "      <th></th>\n",
       "      <th>id</th>\n",
       "      <th>backers_count</th>\n",
       "      <th>blurb</th>\n",
       "      <th>country</th>\n",
       "      <th>created_at</th>\n",
       "      <th>currency</th>\n",
       "      <th>deadline</th>\n",
       "      <th>goal</th>\n",
       "      <th>launched_at</th>\n",
       "      <th>name</th>\n",
       "      <th>...</th>\n",
       "      <th>usd_pledged</th>\n",
       "      <th>parent_category</th>\n",
       "      <th>category</th>\n",
       "      <th>created_at_clean</th>\n",
       "      <th>state_changed_at_clean</th>\n",
       "      <th>launched_at_clean</th>\n",
       "      <th>deadline_clean</th>\n",
       "      <th>project_duration</th>\n",
       "      <th>time_til_state_changed</th>\n",
       "      <th>avg_pledge</th>\n",
       "    </tr>\n",
       "  </thead>\n",
       "  <tbody>\n",
       "    <tr>\n",
       "      <th>0</th>\n",
       "      <td>1504859185</td>\n",
       "      <td>1</td>\n",
       "      <td>An eco-friendly coffee table that is both func...</td>\n",
       "      <td>US</td>\n",
       "      <td>1473631551</td>\n",
       "      <td>USD</td>\n",
       "      <td>1480966943</td>\n",
       "      <td>5000.0</td>\n",
       "      <td>1478371343</td>\n",
       "      <td>Industrial Bamboo Table</td>\n",
       "      <td>...</td>\n",
       "      <td>240.000000</td>\n",
       "      <td>crafts</td>\n",
       "      <td>woodworking</td>\n",
       "      <td>2016-09-11 22:05:51</td>\n",
       "      <td>2016-12-05 19:42:23</td>\n",
       "      <td>2016-11-05 18:42:23</td>\n",
       "      <td>2016-12-05 19:42:23</td>\n",
       "      <td>84 days 21:36:32.000000000</td>\n",
       "      <td>84 days 21:36:32.000000000</td>\n",
       "      <td>240.000000</td>\n",
       "    </tr>\n",
       "    <tr>\n",
       "      <th>1</th>\n",
       "      <td>49266114</td>\n",
       "      <td>3</td>\n",
       "      <td>We take digital uploads and make them handpain...</td>\n",
       "      <td>CA</td>\n",
       "      <td>1436540372</td>\n",
       "      <td>CAD</td>\n",
       "      <td>1440417634</td>\n",
       "      <td>1000.0</td>\n",
       "      <td>1437480034</td>\n",
       "      <td>Custom Pet Portraits on Canvas- \"From Pixels t...</td>\n",
       "      <td>...</td>\n",
       "      <td>247.950175</td>\n",
       "      <td>art</td>\n",
       "      <td>painting</td>\n",
       "      <td>2015-07-10 14:59:32</td>\n",
       "      <td>2015-08-24 12:00:34</td>\n",
       "      <td>2015-07-21 12:00:34</td>\n",
       "      <td>2015-08-24 12:00:34</td>\n",
       "      <td>44 days 21:01:02.000000000</td>\n",
       "      <td>44 days 21:01:02.000000000</td>\n",
       "      <td>82.650058</td>\n",
       "    </tr>\n",
       "    <tr>\n",
       "      <th>2</th>\n",
       "      <td>1228074690</td>\n",
       "      <td>243</td>\n",
       "      <td>We are a team of restaurant pros looking to fu...</td>\n",
       "      <td>US</td>\n",
       "      <td>1427218874</td>\n",
       "      <td>USD</td>\n",
       "      <td>1431706954</td>\n",
       "      <td>35000.0</td>\n",
       "      <td>1429114954</td>\n",
       "      <td>The Barmobile: Boston's Mobile Cocktail Cateri...</td>\n",
       "      <td>...</td>\n",
       "      <td>41738.000000</td>\n",
       "      <td>food</td>\n",
       "      <td>food trucks</td>\n",
       "      <td>2015-03-24 17:41:14</td>\n",
       "      <td>2015-05-15 16:22:34</td>\n",
       "      <td>2015-04-15 16:22:34</td>\n",
       "      <td>2015-05-15 16:22:34</td>\n",
       "      <td>51 days 22:41:20.000000000</td>\n",
       "      <td>51 days 22:41:20.000000000</td>\n",
       "      <td>171.761317</td>\n",
       "    </tr>\n",
       "    <tr>\n",
       "      <th>3</th>\n",
       "      <td>330962986</td>\n",
       "      <td>27</td>\n",
       "      <td>Loosely-based on a Lakota legend, Grandfather ...</td>\n",
       "      <td>US</td>\n",
       "      <td>1495110632</td>\n",
       "      <td>USD</td>\n",
       "      <td>1500217383</td>\n",
       "      <td>3000.0</td>\n",
       "      <td>1496329383</td>\n",
       "      <td>Grandfather Thunder &amp; The Night Horses</td>\n",
       "      <td>...</td>\n",
       "      <td>3115.000000</td>\n",
       "      <td>publishing</td>\n",
       "      <td>children's books</td>\n",
       "      <td>2017-05-18 12:30:32</td>\n",
       "      <td>2017-07-16 15:03:04</td>\n",
       "      <td>2017-06-01 15:03:03</td>\n",
       "      <td>2017-07-16 15:03:03</td>\n",
       "      <td>59 days 02:32:31.000000000</td>\n",
       "      <td>59 days 02:32:32.000000000</td>\n",
       "      <td>115.370370</td>\n",
       "    </tr>\n",
       "    <tr>\n",
       "      <th>4</th>\n",
       "      <td>1657821447</td>\n",
       "      <td>3</td>\n",
       "      <td>Save me is a feature film about a depression s...</td>\n",
       "      <td>IE</td>\n",
       "      <td>1450121921</td>\n",
       "      <td>EUR</td>\n",
       "      <td>1455328590</td>\n",
       "      <td>15000.0</td>\n",
       "      <td>1450144590</td>\n",
       "      <td>Save Me-A film to hightlight depression (Cance...</td>\n",
       "      <td>...</td>\n",
       "      <td>660.680598</td>\n",
       "      <td>film &amp; video</td>\n",
       "      <td>movie theaters</td>\n",
       "      <td>2015-12-14 19:38:41</td>\n",
       "      <td>2016-02-10 00:54:26</td>\n",
       "      <td>2015-12-15 01:56:30</td>\n",
       "      <td>2016-02-13 01:56:30</td>\n",
       "      <td>60 days 06:17:49.000000000</td>\n",
       "      <td>57 days 05:15:45.000000000</td>\n",
       "      <td>220.226866</td>\n",
       "    </tr>\n",
       "  </tbody>\n",
       "</table>\n",
       "<p>5 rows × 27 columns</p>\n",
       "</div>"
      ],
      "text/plain": [
       "           id  backers_count  \\\n",
       "0  1504859185              1   \n",
       "1    49266114              3   \n",
       "2  1228074690            243   \n",
       "3   330962986             27   \n",
       "4  1657821447              3   \n",
       "\n",
       "                                               blurb country  created_at  \\\n",
       "0  An eco-friendly coffee table that is both func...      US  1473631551   \n",
       "1  We take digital uploads and make them handpain...      CA  1436540372   \n",
       "2  We are a team of restaurant pros looking to fu...      US  1427218874   \n",
       "3  Loosely-based on a Lakota legend, Grandfather ...      US  1495110632   \n",
       "4  Save me is a feature film about a depression s...      IE  1450121921   \n",
       "\n",
       "  currency    deadline     goal  launched_at  \\\n",
       "0      USD  1480966943   5000.0   1478371343   \n",
       "1      CAD  1440417634   1000.0   1437480034   \n",
       "2      USD  1431706954  35000.0   1429114954   \n",
       "3      USD  1500217383   3000.0   1496329383   \n",
       "4      EUR  1455328590  15000.0   1450144590   \n",
       "\n",
       "                                                name     ...      \\\n",
       "0                            Industrial Bamboo Table     ...       \n",
       "1  Custom Pet Portraits on Canvas- \"From Pixels t...     ...       \n",
       "2  The Barmobile: Boston's Mobile Cocktail Cateri...     ...       \n",
       "3             Grandfather Thunder & The Night Horses     ...       \n",
       "4  Save Me-A film to hightlight depression (Cance...     ...       \n",
       "\n",
       "    usd_pledged parent_category          category     created_at_clean  \\\n",
       "0    240.000000          crafts       woodworking  2016-09-11 22:05:51   \n",
       "1    247.950175             art          painting  2015-07-10 14:59:32   \n",
       "2  41738.000000            food       food trucks  2015-03-24 17:41:14   \n",
       "3   3115.000000      publishing  children's books  2017-05-18 12:30:32   \n",
       "4    660.680598    film & video    movie theaters  2015-12-14 19:38:41   \n",
       "\n",
       "  state_changed_at_clean    launched_at_clean       deadline_clean  \\\n",
       "0    2016-12-05 19:42:23  2016-11-05 18:42:23  2016-12-05 19:42:23   \n",
       "1    2015-08-24 12:00:34  2015-07-21 12:00:34  2015-08-24 12:00:34   \n",
       "2    2015-05-15 16:22:34  2015-04-15 16:22:34  2015-05-15 16:22:34   \n",
       "3    2017-07-16 15:03:04  2017-06-01 15:03:03  2017-07-16 15:03:03   \n",
       "4    2016-02-10 00:54:26  2015-12-15 01:56:30  2016-02-13 01:56:30   \n",
       "\n",
       "             project_duration      time_til_state_changed  avg_pledge  \n",
       "0  84 days 21:36:32.000000000  84 days 21:36:32.000000000  240.000000  \n",
       "1  44 days 21:01:02.000000000  44 days 21:01:02.000000000   82.650058  \n",
       "2  51 days 22:41:20.000000000  51 days 22:41:20.000000000  171.761317  \n",
       "3  59 days 02:32:31.000000000  59 days 02:32:32.000000000  115.370370  \n",
       "4  60 days 06:17:49.000000000  57 days 05:15:45.000000000  220.226866  \n",
       "\n",
       "[5 rows x 27 columns]"
      ]
     },
     "execution_count": 2,
     "metadata": {},
     "output_type": "execute_result"
    }
   ],
   "source": [
    "import pandas as pd\n",
    "import numpy as np\n",
    "\n",
    "ks201901 = pd.read_csv(path)\n",
    "ks201901.head()\n"
   ]
  },
  {
   "cell_type": "code",
   "execution_count": 3,
   "metadata": {},
   "outputs": [
    {
     "data": {
      "text/plain": [
       "Index(['id', 'backers_count', 'blurb', 'country', 'created_at', 'currency',\n",
       "       'deadline', 'goal', 'launched_at', 'name', 'pledged', 'slug',\n",
       "       'spotlight', 'staff_pick', 'state', 'state_changed_at', 'urls',\n",
       "       'usd_pledged', 'parent_category', 'category', 'created_at_clean',\n",
       "       'state_changed_at_clean', 'launched_at_clean', 'deadline_clean',\n",
       "       'project_duration', 'time_til_state_changed', 'avg_pledge'],\n",
       "      dtype='object')"
      ]
     },
     "execution_count": 3,
     "metadata": {},
     "output_type": "execute_result"
    }
   ],
   "source": [
    "ks201901.columns"
   ]
  },
  {
   "cell_type": "code",
   "execution_count": 4,
   "metadata": {},
   "outputs": [
    {
     "data": {
      "text/plain": [
       "180934"
      ]
     },
     "execution_count": 4,
     "metadata": {},
     "output_type": "execute_result"
    }
   ],
   "source": [
    "len(ks201901)"
   ]
  },
  {
   "cell_type": "code",
   "execution_count": null,
   "metadata": {},
   "outputs": [],
   "source": [
    "ks201901[\"state\"].value_counts()"
   ]
  },
  {
   "cell_type": "code",
   "execution_count": 18,
   "metadata": {},
   "outputs": [],
   "source": [
    "from sklearn.neighbors import KNeighborsClassifier\n",
    "from sklearn.model_selection import cross_val_score\n",
    "from sklearn.pipeline import Pipeline\n",
    "from sklearn.feature_extraction import DictVectorizer\n",
    "\n",
    "Y_train = ks201901[ks201901[\"state\"] != \"live\"]\n",
    "Y_train = Y_train[Y_train[\"state\"] != \"canceled\"]\n",
    "Y_train = Y_train[Y_train[\"state\"] != \"suspended\"]\n",
    "Y_train = Y_train[\"state\"]\n",
    "\n",
    "ks201901done = ks201901[(ks201901[\"state\"] != \"live\")]\n",
    "ks201901done = ks201901done[(ks201901done[\"state\"] != \"canceled\")]\n",
    "ks201901done = ks201901done[(ks201901done[\"state\"] != \"suspended\")]\n",
    "\n",
    "\n",
    "\n",
    "modelKnear = KNeighborsClassifier(n_neighbors=13)\n",
    "def get_accuracy(feats):\n",
    "    X_train = ks201901done[feats].fillna(\"\")\n",
    "    vec = DictVectorizer(sparse=False)\n",
    "\n",
    "    modelKnear = KNeighborsClassifier(n_neighbors=5)\n",
    "\n",
    "    pipeline = Pipeline([(\"vec\", vec), (\"model\", modelKnear)])\n",
    "    return cross_val_score(pipeline,X_train.to_dict(orient=\"records\"), Y_train,cv=5, scoring='accuracy').mean()\n",
    "\n",
    "#replace model with a pipeline"
   ]
  },
  {
   "cell_type": "markdown",
   "metadata": {},
   "source": [
    "Trying different features to see what produces the highest accuracy"
   ]
  },
  {
   "cell_type": "code",
   "execution_count": 19,
   "metadata": {},
   "outputs": [
    {
     "data": {
      "text/plain": [
       "0.7640650447620939"
      ]
     },
     "execution_count": 19,
     "metadata": {},
     "output_type": "execute_result"
    }
   ],
   "source": [
    "get_accuracy([\"avg_pledge\"])"
   ]
  },
  {
   "cell_type": "code",
   "execution_count": null,
   "metadata": {},
   "outputs": [
    {
     "data": {
      "text/plain": [
       "0.554229268026529"
      ]
     },
     "execution_count": 20,
     "metadata": {},
     "output_type": "execute_result"
    }
   ],
   "source": [
    "get_accuracy([\"goal\"])"
   ]
  },
  {
   "cell_type": "code",
   "execution_count": null,
   "metadata": {},
   "outputs": [],
   "source": [
    "get_accuracy([\"backers_count\"])"
   ]
  },
  {
   "cell_type": "code",
   "execution_count": null,
   "metadata": {},
   "outputs": [],
   "source": [
    "get_accuracy([\"usd_pledged\"])"
   ]
  },
  {
   "cell_type": "markdown",
   "metadata": {},
   "source": [
    "We can not use spotlight to predict if a project will be successful because spotlights are given to projects that are successful."
   ]
  },
  {
   "cell_type": "code",
   "execution_count": null,
   "metadata": {},
   "outputs": [],
   "source": [
    "get_accuracy([\"spotlight\"])"
   ]
  },
  {
   "cell_type": "code",
   "execution_count": null,
   "metadata": {},
   "outputs": [],
   "source": [
    "get_accuracy([\"backers_count\",\"usd_pledged\"])"
   ]
  },
  {
   "cell_type": "code",
   "execution_count": null,
   "metadata": {},
   "outputs": [],
   "source": [
    "get_accuracy([\"avg_pledge\", \"goal\"])"
   ]
  },
  {
   "cell_type": "code",
   "execution_count": null,
   "metadata": {},
   "outputs": [],
   "source": [
    "get_accuracy([\"avg_pledge\", \"goal\",\"usd_pledged\"])"
   ]
  },
  {
   "cell_type": "code",
   "execution_count": null,
   "metadata": {},
   "outputs": [],
   "source": [
    "get_accuracy([\"avg_pledge\", \"goal\",\"backers_count\"])"
   ]
  },
  {
   "cell_type": "markdown",
   "metadata": {},
   "source": [
    "We found this combonation of variables resulted in the highest accuracy."
   ]
  },
  {
   "cell_type": "code",
   "execution_count": null,
   "metadata": {},
   "outputs": [],
   "source": [
    "get_accuracy([\"avg_pledge\", \"goal\",\"backers_count\",\"usd_pledged\"])"
   ]
  },
  {
   "cell_type": "markdown",
   "metadata": {},
   "source": [
    "Now to find the optimal K for knearest neighbors model."
   ]
  },
  {
   "cell_type": "markdown",
   "metadata": {},
   "source": [
    "My laptop was not having the number of observations to utilize cross val score. So I will have to randomly sample the set."
   ]
  },
  {
   "cell_type": "code",
   "execution_count": null,
   "metadata": {},
   "outputs": [],
   "source": [
    "import random\n",
    "new_df = pd.DataFrame(columns=[\"avg_pledge\", \"goal\",\"backers_count\",\"usd_pledged\",\"blurb\", \"state\"],index=range(0,10000))\n",
    "for k in range(0, 10000):\n",
    "    new_df.loc[k] = (ks201901.loc[random.randint(0,len(ks201901)-1)]\\\n",
    "                 [[\"avg_pledge\", \"goal\",\"backers_count\",\"usd_pledged\", \"blurb\",\"state\"]])"
   ]
  },
  {
   "cell_type": "code",
   "execution_count": null,
   "metadata": {},
   "outputs": [],
   "source": [
    "sample_Y_train = new_df[new_df[\"state\"] != \"live\"]\n",
    "sample_Y_train = sample_Y_train[sample_Y_train[\"state\"] != \"canceled\"]\n",
    "sample_Y_train = sample_Y_train[sample_Y_train[\"state\"] != \"suspended\"]\n",
    "sample_Y_train = sample_Y_train[\"state\"]\n",
    "\n",
    "sampled = new_df[(new_df[\"state\"] != \"live\")]\n",
    "sampled = sampled[(sampled[\"state\"] != \"canceled\")]\n",
    "sampled = sampled[(sampled[\"state\"] != \"suspended\")]"
   ]
  },
  {
   "cell_type": "code",
   "execution_count": null,
   "metadata": {},
   "outputs": [],
   "source": [
    "len(new_df)"
   ]
  },
  {
   "cell_type": "code",
   "execution_count": null,
   "metadata": {},
   "outputs": [],
   "source": [
    "def get_accuracy_k():\n",
    "    cv_score = []\n",
    "    X_train = sampled[[\"avg_pledge\", \"goal\",\"backers_count\",\"usd_pledged\"]].fillna(\"\")\n",
    "    \n",
    "    for k in range(1,50):\n",
    "        \n",
    "        vec = DictVectorizer(sparse=False)\n",
    "\n",
    "        model = KNeighborsClassifier(n_neighbors=k)\n",
    "\n",
    "        pipeline = Pipeline([(\"vec\", vec), (\"model\", model)])\n",
    "        cv_score.append(cross_val_score(pipeline,X_train.to_dict(orient=\"records\"),\n",
    "                                    sample_Y_train,cv=5, scoring='accuracy').mean())\n",
    "    return cv_score"
   ]
  },
  {
   "cell_type": "code",
   "execution_count": null,
   "metadata": {},
   "outputs": [],
   "source": [
    "error = get_accuracy_k()\n",
    "ks1=pd.Series(index=range(1,50), data=error)\n",
    "df = pd.DataFrame(ks1, columns= [\"CVError\"],index=range(1,50))\n",
    "df.plot.line()\n",
    "df.CVError.idxmax()"
   ]
  },
  {
   "cell_type": "markdown",
   "metadata": {},
   "source": [
    "from this model, We recieve a k that is 8 is the most optimal."
   ]
  },
  {
   "cell_type": "code",
   "execution_count": null,
   "metadata": {},
   "outputs": [],
   "source": [
    "\n",
    "from sklearn.neighbors import KNeighborsClassifier\n",
    "from sklearn.model_selection import cross_val_score\n",
    "from sklearn.pipeline import Pipeline\n",
    "from sklearn.feature_extraction.text import TfidfVectorizer\n",
    "from sklearn.feature_extraction.text import CountVectorizer\n",
    "\n",
    "\n",
    "\n",
    "def get_accuracy_k_tfidf_pt1(k):\n",
    "    Y_train = sample_Y_train.loc[1000:]\n",
    "    X_train = sampled.loc[1000:]\n",
    "    vec = TfidfVectorizer(max_features=50)\n",
    "    X_train = X_train.blurb.fillna(\"\")\n",
    "    model = KNeighborsClassifier(n_neighbors=k)\n",
    "    pipeline = Pipeline([(\"vec\", vec), (\"model\", model)])\n",
    "    return cross_val_score(pipeline,X_train, Y_train,cv=5, scoring='accuracy').mean()"
   ]
  },
  {
   "cell_type": "code",
   "execution_count": null,
   "metadata": {},
   "outputs": [],
   "source": [
    "kstfidf=pd.Series(index=range(1,50), data = range(1,50))\n",
    "#ks.index=range(1,100)\n",
    "#ks_df = pd.DataFrame(columns=[[\"accuracy\", \"f1\"]]) \n",
    "kstfidf.apply(get_accuracy_k_tfidf_pt1).plot.line()"
   ]
  },
  {
   "cell_type": "markdown",
   "metadata": {},
   "source": [
    "Attempted to incorporate blurbs, by looking at the first 1000, however these do not have any correlation or significance to predicting the state. Many of the values came out to .60 which isn't much better than just gussing that everything is successful."
   ]
  },
  {
   "cell_type": "code",
   "execution_count": null,
   "metadata": {},
   "outputs": [],
   "source": [
    "new_df.state.value_counts()/len(new_df)"
   ]
  },
  {
   "cell_type": "code",
   "execution_count": null,
   "metadata": {},
   "outputs": [],
   "source": [
    "def get_accuracy_8(feats):\n",
    "    X_train = ks201901done[feats].fillna(\"\")\n",
    "    vec = DictVectorizer(sparse=False)\n",
    "\n",
    "    modelKnear = KNeighborsClassifier(n_neighbors=8)\n",
    "\n",
    "    pipeline = Pipeline([(\"vec\", vec), (\"model\", modelKnear)])\n",
    "    return cross_val_score(pipeline,X_train.to_dict(orient=\"records\"), Y_train,cv=5, scoring='accuracy').mean()"
   ]
  },
  {
   "cell_type": "code",
   "execution_count": null,
   "metadata": {},
   "outputs": [],
   "source": [
    "get_accuracy_8([\"avg_pledge\", \"goal\",\"backers_count\",\"usd_pledged\"])"
   ]
  },
  {
   "cell_type": "code",
   "execution_count": null,
   "metadata": {},
   "outputs": [],
   "source": [
    "from sklearn.ensemble import RandomForestClassifier\n",
    "from sklearn.model_selection import cross_val_score\n",
    "import matplotlib.pyplot as plt\n",
    "\n",
    "#****** Cited Thomas's notebook.********#\n",
    "def randomforestclassifier(k):\n",
    "    X_train = sampled[[\"avg_pledge\", \"goal\",\"backers_count\",\"usd_pledged\"]].fillna(0)\n",
    "    Y_train = sample_Y_train\n",
    "    model = RandomForestClassifier(n_estimators=k)\n",
    "    return cross_val_score(model,X_train, \n",
    "                           Y_train, cv = 10, \n",
    "                           scoring=\"accuracy\").mean()\n"
   ]
  },
  {
   "cell_type": "code",
   "execution_count": null,
   "metadata": {},
   "outputs": [],
   "source": [
    "ksrfc = pd.Series(index=range(1,75), data = range(1,75))\n",
    "df=pd.DataFrame(data=ksrfc.apply(randomforestclassifier), index=range(1,75),columns=[\"TestError\"])"
   ]
  },
  {
   "cell_type": "code",
   "execution_count": null,
   "metadata": {},
   "outputs": [],
   "source": [
    "df[\"Number of Estimators\"] = range(1,75)\n",
    "ax = df.plot.scatter(x=\"Number of Estimators\",y=\"TestError\")\n",
    "ax.set_xlabel(\"Number of Estimators\")\n",
    "ax.set_ylabel(\"Accuracy\")\n",
    "fig = plt.gcf()\n",
    "fig.set_size_inches(16,6)\n",
    "plt.title(\"Random Forest Classifier\")\n",
    "print(df.loc[df.TestError.idxmax()])\n",
    "df.sort_values(\"TestError\").head(5)"
   ]
  },
  {
   "cell_type": "markdown",
   "metadata": {},
   "source": [
    "given these models, I can conclude:\n",
    "    Knearest neighbors optimized will give us an accuracy of .983\n",
    "    Random forest optimized will give us an accuracy of .980\n",
    "Which are both high accuracies. For the purpose of predicting, I will use knearest neighbors because it is slightly better than random forest\n",
    "    "
   ]
  },
  {
   "cell_type": "markdown",
   "metadata": {},
   "source": [
    "From Januray and February, these observations have been randomly sampled from both months such that I can validate this model using test error from projects that were live in January, but finished in Febreuary."
   ]
  },
  {
   "cell_type": "code",
   "execution_count": null,
   "metadata": {},
   "outputs": [],
   "source": [
    "path = \"~/calpoly/Data301/Data301FinalProject/datasets/processed/final/ks201901-201902.csv\""
   ]
  },
  {
   "cell_type": "code",
   "execution_count": null,
   "metadata": {},
   "outputs": [],
   "source": [
    "ks2019months = pd.read_csv(path)\n",
    "ks2019months.head()\n"
   ]
  },
  {
   "cell_type": "code",
   "execution_count": null,
   "metadata": {},
   "outputs": [],
   "source": [
    "from sklearn.neighbors import KNeighborsClassifier\n",
    "from sklearn.feature_extraction import DictVectorizer\n",
    "from sklearn.preprocessing import StandardScaler\n",
    "from sklearn.model_selection import cross_val_score\n",
    "from sklearn.pipeline import Pipeline\n",
    "\n",
    "\n",
    "Y_train = ks2019months[ks2019months[\"state201902\"] != \"live\"]\n",
    "Y_train = Y_train[Y_train[\"state201902\"] != \"canceled\"]\n",
    "Y_train = Y_train[Y_train[\"state201902\"] != \"suspended\"]\n",
    "Y_train = Y_train[\"state201902\"]\n",
    "\n",
    "ks201902done = ks2019months[(ks2019months[\"state201902\"] != \"live\")]\n",
    "ks201902done = ks201902done[(ks201902done[\"state201902\"] != \"canceled\")]\n",
    "ks201902done = ks201902done[(ks201902done[\"state201902\"] != \"suspended\")]\n",
    "\n",
    "cv_error = []\n",
    "def get_accuracy(feats):\n",
    "    X_train = ks201902done[feats].fillna(\"\")\n",
    "    vec = DictVectorizer(sparse=False)\n",
    "    scaler = StandardScaler()\n",
    "    for k in range(1,50):\n",
    "        modelKnear = KNeighborsClassifier(n_neighbors=k)\n",
    "        pipeline = Pipeline([(\"vec\", vec),(\"scaler\", scaler), (\"model\", modelKnear)])\n",
    "        cv_error.append(cross_val_score(pipeline,X_train.to_dict(orient=\"records\"), Y_train,cv=5, scoring='accuracy').mean())"
   ]
  },
  {
   "cell_type": "code",
   "execution_count": null,
   "metadata": {},
   "outputs": [],
   "source": [
    "cv_error = []\n",
    "get_accuracy([\"avg_pledge201902\", \"goal\",\"backers_count201902\",\"usd_pledged201901\"])\n",
    "df = pd.DataFrame(cv_error, columns= [\"TestError\"],index=range(1,50))\n",
    "df.TestError.idxmax()"
   ]
  },
  {
   "cell_type": "markdown",
   "metadata": {},
   "source": [
    "N-neighbors of 5 resulted in the knearest neighbors classifier with the highest accuracy."
   ]
  },
  {
   "cell_type": "code",
   "execution_count": null,
   "metadata": {},
   "outputs": [],
   "source": [
    "from sklearn.neighbors import KNeighborsClassifier\n",
    "\n",
    "Y_train = ks2019months[ks2019months[\"state201902\"] != \"live\"]\n",
    "Y_train = Y_train[Y_train[\"state201902\"] != \"canceled\"]\n",
    "Y_train = Y_train[Y_train[\"state201902\"] != \"suspended\"]\n",
    "Y_train = Y_train[\"state201902\"]\n",
    "\n",
    "X_test = ks2019months[ks2019months[\"state201901\"] == \"live\"]\n",
    "X_test = X_test[[\"avg_pledge201901\", \"goal\",\"backers_count201901\",\"usd_pledged201901\"]].fillna(0)\n",
    "\n",
    "ks201902done = ks2019months[(ks2019months[\"state201902\"] != \"live\")]\n",
    "ks201902done = ks201902done[(ks201902done[\"state201902\"] != \"canceled\")]\n",
    "ks201902done = ks201902done[(ks201902done[\"state201902\"] != \"suspended\")]\n",
    "\n",
    "X_train = ks201902done[[\"avg_pledge201902\", \"goal\",\"backers_count201902\",\"usd_pledged201901\"]].fillna(0)\n",
    "\n",
    "modelKnear = KNeighborsClassifier(n_neighbors=5)\n",
    "modelKnear.fit(X_train,Y_train)\n",
    "quant_pred_prob = modelKnear.predict_proba(X_test)\n",
    "quant_pred = modelKnear.predict(X_test)"
   ]
  },
  {
   "cell_type": "code",
   "execution_count": null,
   "metadata": {},
   "outputs": [],
   "source": [
    "ks2019months[\"pred_state\"] = quant_pred.tolist()"
   ]
  },
  {
   "cell_type": "code",
   "execution_count": null,
   "metadata": {},
   "outputs": [],
   "source": [
    "ks2019months[[\"state201902\",\"pred_state\"]]"
   ]
  },
  {
   "cell_type": "code",
   "execution_count": null,
   "metadata": {},
   "outputs": [],
   "source": [
    "print(\"Accuracy of Model\")\n",
    "ks2019months[\"pred_state\"].value_counts()/ks2019months[\"state201902\"].value_counts()"
   ]
  },
  {
   "cell_type": "markdown",
   "metadata": {},
   "source": [
    "Our model tends to over predict on success. Being aware of that our model is still accurate at predicting if a project in January will be successful in February."
   ]
  },
  {
   "cell_type": "code",
   "execution_count": 6,
   "metadata": {},
   "outputs": [],
   "source": [
    "path = \"~/calpoly/Data301/Data301FinalProject/datasets/processed/final/ks201902.csv\""
   ]
  },
  {
   "cell_type": "code",
   "execution_count": 7,
   "metadata": {},
   "outputs": [
    {
     "data": {
      "text/html": [
       "<div>\n",
       "<style scoped>\n",
       "    .dataframe tbody tr th:only-of-type {\n",
       "        vertical-align: middle;\n",
       "    }\n",
       "\n",
       "    .dataframe tbody tr th {\n",
       "        vertical-align: top;\n",
       "    }\n",
       "\n",
       "    .dataframe thead th {\n",
       "        text-align: right;\n",
       "    }\n",
       "</style>\n",
       "<table border=\"1\" class=\"dataframe\">\n",
       "  <thead>\n",
       "    <tr style=\"text-align: right;\">\n",
       "      <th></th>\n",
       "      <th>id</th>\n",
       "      <th>backers_count</th>\n",
       "      <th>blurb</th>\n",
       "      <th>country</th>\n",
       "      <th>created_at</th>\n",
       "      <th>currency</th>\n",
       "      <th>deadline</th>\n",
       "      <th>goal</th>\n",
       "      <th>launched_at</th>\n",
       "      <th>name</th>\n",
       "      <th>...</th>\n",
       "      <th>usd_pledged</th>\n",
       "      <th>parent_category</th>\n",
       "      <th>category</th>\n",
       "      <th>created_at_clean</th>\n",
       "      <th>state_changed_at_clean</th>\n",
       "      <th>launched_at_clean</th>\n",
       "      <th>deadline_clean</th>\n",
       "      <th>project_duration</th>\n",
       "      <th>time_til_state_changed</th>\n",
       "      <th>avg_pledge</th>\n",
       "    </tr>\n",
       "  </thead>\n",
       "  <tbody>\n",
       "    <tr>\n",
       "      <th>0</th>\n",
       "      <td>1203770415</td>\n",
       "      <td>9</td>\n",
       "      <td>A comedy web series about the inherently funny...</td>\n",
       "      <td>US</td>\n",
       "      <td>1489891481</td>\n",
       "      <td>USD</td>\n",
       "      <td>1494132705</td>\n",
       "      <td>5000.0</td>\n",
       "      <td>1491540705</td>\n",
       "      <td>The Start Up</td>\n",
       "      <td>...</td>\n",
       "      <td>508.000000</td>\n",
       "      <td>film &amp; video</td>\n",
       "      <td>comedy</td>\n",
       "      <td>2017-03-19 02:44:41</td>\n",
       "      <td>2017-05-07 04:51:45</td>\n",
       "      <td>2017-04-07 04:51:45</td>\n",
       "      <td>2017-05-07 04:51:45</td>\n",
       "      <td>4241224</td>\n",
       "      <td>4241224</td>\n",
       "      <td>56.444444</td>\n",
       "    </tr>\n",
       "    <tr>\n",
       "      <th>1</th>\n",
       "      <td>878861613</td>\n",
       "      <td>36</td>\n",
       "      <td>Cabo y un Capitán, dos soldados villistas, tra...</td>\n",
       "      <td>MX</td>\n",
       "      <td>1508479978</td>\n",
       "      <td>MXN</td>\n",
       "      <td>1512917074</td>\n",
       "      <td>65000.0</td>\n",
       "      <td>1509893074</td>\n",
       "      <td>Los Muertos de Columbus // The Dead of Columbus</td>\n",
       "      <td>...</td>\n",
       "      <td>3397.485019</td>\n",
       "      <td>film &amp; video</td>\n",
       "      <td>shorts</td>\n",
       "      <td>2017-10-20 06:12:58</td>\n",
       "      <td>2017-12-10 14:44:34</td>\n",
       "      <td>2017-11-05 14:44:34</td>\n",
       "      <td>2017-12-10 14:44:34</td>\n",
       "      <td>4437096</td>\n",
       "      <td>4437096</td>\n",
       "      <td>94.374584</td>\n",
       "    </tr>\n",
       "    <tr>\n",
       "      <th>2</th>\n",
       "      <td>917345297</td>\n",
       "      <td>61</td>\n",
       "      <td>We're building the new home of Māori Theatre a...</td>\n",
       "      <td>NZ</td>\n",
       "      <td>1426499822</td>\n",
       "      <td>NZD</td>\n",
       "      <td>1429596000</td>\n",
       "      <td>10000.0</td>\n",
       "      <td>1427147079</td>\n",
       "      <td>Whare no name - the new home of Māori Theatre</td>\n",
       "      <td>...</td>\n",
       "      <td>7834.340234</td>\n",
       "      <td>theater</td>\n",
       "      <td>NaN</td>\n",
       "      <td>2015-03-16 09:57:02</td>\n",
       "      <td>2015-04-21 06:00:12</td>\n",
       "      <td>2015-03-23 21:44:39</td>\n",
       "      <td>2015-04-21 06:00:00</td>\n",
       "      <td>3096178</td>\n",
       "      <td>3096190</td>\n",
       "      <td>128.431807</td>\n",
       "    </tr>\n",
       "    <tr>\n",
       "      <th>3</th>\n",
       "      <td>1702164653</td>\n",
       "      <td>1730</td>\n",
       "      <td>Comic-book stories celebrate women who crack c...</td>\n",
       "      <td>US</td>\n",
       "      <td>1482813229</td>\n",
       "      <td>USD</td>\n",
       "      <td>1489666144</td>\n",
       "      <td>40000.0</td>\n",
       "      <td>1487077744</td>\n",
       "      <td>Femme Magnifique</td>\n",
       "      <td>...</td>\n",
       "      <td>97447.000000</td>\n",
       "      <td>comics</td>\n",
       "      <td>anthologies</td>\n",
       "      <td>2016-12-27 04:33:49</td>\n",
       "      <td>2017-03-16 12:09:04</td>\n",
       "      <td>2017-02-14 13:09:04</td>\n",
       "      <td>2017-03-16 12:09:04</td>\n",
       "      <td>6852915</td>\n",
       "      <td>6852915</td>\n",
       "      <td>56.327746</td>\n",
       "    </tr>\n",
       "    <tr>\n",
       "      <th>4</th>\n",
       "      <td>1042930184</td>\n",
       "      <td>183</td>\n",
       "      <td>A Victorian “gaslamp” lesbian romance, set in ...</td>\n",
       "      <td>US</td>\n",
       "      <td>1506228739</td>\n",
       "      <td>USD</td>\n",
       "      <td>1510473540</td>\n",
       "      <td>2000.0</td>\n",
       "      <td>1507662001</td>\n",
       "      <td>Miss Bullard's School For Former Ladies</td>\n",
       "      <td>...</td>\n",
       "      <td>3911.000000</td>\n",
       "      <td>games</td>\n",
       "      <td>video games</td>\n",
       "      <td>2017-09-24 04:52:19</td>\n",
       "      <td>2017-11-12 07:59:00</td>\n",
       "      <td>2017-10-10 19:00:01</td>\n",
       "      <td>2017-11-12 07:59:00</td>\n",
       "      <td>4244801</td>\n",
       "      <td>4244801</td>\n",
       "      <td>21.371585</td>\n",
       "    </tr>\n",
       "  </tbody>\n",
       "</table>\n",
       "<p>5 rows × 27 columns</p>\n",
       "</div>"
      ],
      "text/plain": [
       "           id  backers_count  \\\n",
       "0  1203770415              9   \n",
       "1   878861613             36   \n",
       "2   917345297             61   \n",
       "3  1702164653           1730   \n",
       "4  1042930184            183   \n",
       "\n",
       "                                               blurb country  created_at  \\\n",
       "0  A comedy web series about the inherently funny...      US  1489891481   \n",
       "1  Cabo y un Capitán, dos soldados villistas, tra...      MX  1508479978   \n",
       "2  We're building the new home of Māori Theatre a...      NZ  1426499822   \n",
       "3  Comic-book stories celebrate women who crack c...      US  1482813229   \n",
       "4  A Victorian “gaslamp” lesbian romance, set in ...      US  1506228739   \n",
       "\n",
       "  currency    deadline     goal  launched_at  \\\n",
       "0      USD  1494132705   5000.0   1491540705   \n",
       "1      MXN  1512917074  65000.0   1509893074   \n",
       "2      NZD  1429596000  10000.0   1427147079   \n",
       "3      USD  1489666144  40000.0   1487077744   \n",
       "4      USD  1510473540   2000.0   1507662001   \n",
       "\n",
       "                                              name     ...       usd_pledged  \\\n",
       "0                                     The Start Up     ...        508.000000   \n",
       "1  Los Muertos de Columbus // The Dead of Columbus     ...       3397.485019   \n",
       "2    Whare no name - the new home of Māori Theatre     ...       7834.340234   \n",
       "3                                 Femme Magnifique     ...      97447.000000   \n",
       "4          Miss Bullard's School For Former Ladies     ...       3911.000000   \n",
       "\n",
       "  parent_category     category     created_at_clean state_changed_at_clean  \\\n",
       "0    film & video       comedy  2017-03-19 02:44:41    2017-05-07 04:51:45   \n",
       "1    film & video       shorts  2017-10-20 06:12:58    2017-12-10 14:44:34   \n",
       "2         theater          NaN  2015-03-16 09:57:02    2015-04-21 06:00:12   \n",
       "3          comics  anthologies  2016-12-27 04:33:49    2017-03-16 12:09:04   \n",
       "4           games  video games  2017-09-24 04:52:19    2017-11-12 07:59:00   \n",
       "\n",
       "     launched_at_clean       deadline_clean  project_duration  \\\n",
       "0  2017-04-07 04:51:45  2017-05-07 04:51:45           4241224   \n",
       "1  2017-11-05 14:44:34  2017-12-10 14:44:34           4437096   \n",
       "2  2015-03-23 21:44:39  2015-04-21 06:00:00           3096178   \n",
       "3  2017-02-14 13:09:04  2017-03-16 12:09:04           6852915   \n",
       "4  2017-10-10 19:00:01  2017-11-12 07:59:00           4244801   \n",
       "\n",
       "  time_til_state_changed  avg_pledge  \n",
       "0                4241224   56.444444  \n",
       "1                4437096   94.374584  \n",
       "2                3096190  128.431807  \n",
       "3                6852915   56.327746  \n",
       "4                4244801   21.371585  \n",
       "\n",
       "[5 rows x 27 columns]"
      ]
     },
     "execution_count": 7,
     "metadata": {},
     "output_type": "execute_result"
    }
   ],
   "source": [
    "ks201902 = pd.read_csv(path)\n",
    "ks201902.head()"
   ]
  },
  {
   "cell_type": "markdown",
   "metadata": {},
   "source": [
    "Now we will predict over the current live projects"
   ]
  },
  {
   "cell_type": "code",
   "execution_count": 8,
   "metadata": {},
   "outputs": [],
   "source": [
    "Y_train = ks201902[ks201902[\"state\"] != \"live\"]\n",
    "Y_train = Y_train[Y_train[\"state\"] != \"canceled\"]\n",
    "Y_train = Y_train[Y_train[\"state\"] != \"suspended\"]\n",
    "Y_train = Y_train[\"state\"]\n",
    "\n",
    "ks201902live = ks201902[ks201902[\"state\"] == \"live\"]\n",
    "\n",
    "X_test = ks201902live[[\"avg_pledge\", \"goal\",\"backers_count\",\"usd_pledged\"]].fillna(0)\n",
    "\n",
    "ks201902done = ks201902[(ks201902[\"state\"] != \"live\")]\n",
    "ks201902done = ks201902done[(ks201902done[\"state\"] != \"canceled\")]\n",
    "ks201902done = ks201902done[(ks201902done[\"state\"] != \"suspended\")]\n",
    "\n",
    "X_train = ks201902done[[\"avg_pledge\", \"goal\",\"backers_count\",\"usd_pledged\"]].fillna(0)\n",
    "\n",
    "modelKnear = KNeighborsClassifier(n_neighbors=13)\n",
    "modelKnear.fit(X_train,Y_train)\n",
    "quant_pred_prob = modelKnear.predict_proba(X_test)\n",
    "quant_pred = modelKnear.predict(X_test)"
   ]
  },
  {
   "cell_type": "code",
   "execution_count": 9,
   "metadata": {},
   "outputs": [],
   "source": [
    "X_test[\"Predictions\"] = quant_pred.tolist()"
   ]
  },
  {
   "cell_type": "code",
   "execution_count": 10,
   "metadata": {},
   "outputs": [
    {
     "data": {
      "text/plain": [
       "failed        2381\n",
       "successful    1140\n",
       "Name: Predictions, dtype: int64"
      ]
     },
     "execution_count": 10,
     "metadata": {},
     "output_type": "execute_result"
    }
   ],
   "source": [
    "X_test[\"Predictions\"].value_counts()"
   ]
  },
  {
   "cell_type": "markdown",
   "metadata": {},
   "source": [
    "In our prediction, we can see that 1140 to become successful and 2381 projects to fail. \n",
    "\n",
    "These graphs are the flattedned predictions of the 4-D space we used to predict the state outcomes."
   ]
  },
  {
   "cell_type": "code",
   "execution_count": 11,
   "metadata": {},
   "outputs": [],
   "source": [
    "color = X_test[\"Predictions\"].map({\n",
    "    \"failed\": \"red\",\n",
    "    \"successful\": \"green\"\n",
    "})"
   ]
  },
  {
   "cell_type": "code",
   "execution_count": 16,
   "metadata": {},
   "outputs": [
    {
     "data": {
      "text/plain": [
       "<matplotlib.axes._subplots.AxesSubplot at 0x1a32ad1278>"
      ]
     },
     "execution_count": 16,
     "metadata": {},
     "output_type": "execute_result"
    },
    {
     "data": {
      "image/png": "[encoded data removed]",
      "text/plain": [
       "<Figure size 432x288 with 1 Axes>"
      ]
     },
     "metadata": {
      "needs_background": "light"
     },
     "output_type": "display_data"
    }
   ],
   "source": [
    "X_test.plot.scatter(\n",
    "    x=\"backers_count\",y=\"usd_pledged\",\n",
    "    color = color\n",
    ")"
   ]
  },
  {
   "cell_type": "code",
   "execution_count": 15,
   "metadata": {},
   "outputs": [
    {
     "data": {
      "text/plain": [
       "<matplotlib.axes._subplots.AxesSubplot at 0x1a3271a7b8>"
      ]
     },
     "execution_count": 15,
     "metadata": {},
     "output_type": "execute_result"
    },
    {
     "data": {
      "image/png": "[encoded data removed]",
      "text/plain": [
       "<Figure size 432x288 with 1 Axes>"
      ]
     },
     "metadata": {
      "needs_background": "light"
     },
     "output_type": "display_data"
    }
   ],
   "source": [
    "X_test.plot.scatter(\n",
    "    x=\"avg_pledge\",y=\"goal\",\n",
    "    color = color\n",
    ")"
   ]
  },
  {
   "cell_type": "code",
   "execution_count": 14,
   "metadata": {},
   "outputs": [
    {
     "data": {
      "text/plain": [
       "<matplotlib.axes._subplots.AxesSubplot at 0x1a327fa9e8>"
      ]
     },
     "execution_count": 14,
     "metadata": {},
     "output_type": "execute_result"
    },
    {
     "data": {
      "image/png": "[encoded data removed]",
      "text/plain": [
       "<Figure size 1440x720 with 2 Axes>"
      ]
     },
     "metadata": {
      "needs_background": "light"
     },
     "output_type": "display_data"
    }
   ],
   "source": [
    "import matplotlib.pyplot as plt\n",
    "f, ax = plt.subplots(1,2,figsize=(20,10))\n",
    "\n",
    "pledge_ax = ax[0]\n",
    "backers_ax = ax[1]\n",
    "\n",
    "pledge_ax.set_xlim(right=1000)\n",
    "pledge_ax.set_ylim(top=500000)\n",
    "\n",
    "backers_ax.set_xlim(right=2000)\n",
    "backers_ax.set_ylim(top=200000)\n",
    "\n",
    "X_test.plot.scatter(\n",
    "    x=\"avg_pledge\",y=\"goal\",\n",
    "    color = color, ax=pledge_ax\n",
    ")\n",
    "\n",
    "X_test.plot.scatter(\n",
    "    x=\"backers_count\",y=\"usd_pledged\",\n",
    "    color = color, ax=backers_ax\n",
    ")"
   ]
  },
  {
   "cell_type": "markdown",
   "metadata": {},
   "source": [
    "This is a prediction for an ultimate Gamecube adaptor for the Nintendo Switch on kickstarter."
   ]
  },
  {
   "cell_type": "code",
   "execution_count": null,
   "metadata": {
    "scrolled": true
   },
   "outputs": [],
   "source": [
    "X_test.loc[ks201902live[ks201902live.id == 351871530].index]"
   ]
  },
  {
   "cell_type": "markdown",
   "metadata": {},
   "source": [
    "Conclusion: \n",
    "\n",
    "What we can see from the graphs is clearly, having a goal that is too large in general will result in failing. Though having high average pledge dollars does not secure that you will be successful. However looking to the graph on the right, the way to be successful is to have many backers that can feul a high amount of pledge dollars. THis can be helpful to projects who just started and wanted to see how they'll do after a week. Then looking at their goal, current pledge amount, backers and the avergae. They can decide whether they need to increase the amount of publicility and advertisement they should do, or if they can stay consistent in order to achieve their goal. So there must be a balance of a realistic goal that is attainable and gaining many backers that are willing to donate a good enough amount of moeny to supply the total pledged."
   ]
  }
 ],
 "metadata": {
  "kernelspec": {
   "display_name": "Python 3",
   "language": "python",
   "name": "python3"
  },
  "language_info": {
   "codemirror_mode": {
    "name": "ipython",
    "version": 3
   },
   "file_extension": ".py",
   "mimetype": "text/x-python",
   "name": "python",
   "nbconvert_exporter": "python",
   "pygments_lexer": "ipython3",
   "version": "3.7.1"
  }
 },
 "nbformat": 4,
 "nbformat_minor": 2
}

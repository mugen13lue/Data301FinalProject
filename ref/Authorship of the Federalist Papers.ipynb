{
 "cells": [
  {
   "cell_type": "markdown",
   "metadata": {},
   "source": [
    "# Authorship of the Federalist Papers\n",
    "\n",
    "The _Federalist Papers_ were a set of 85 essays published between 1787 and 1788 to promote the ratification of the United States Constitution. They were originally published under the pseudonym \"Publius\". Although the identity of the authors was a closely guarded secret at the time, most of the papers have since been conclusively attributed to one of Hamilton, Jay, or Madison. The known authorships can be found in `/data301/data/federalist/authorship.csv`.\n",
    "\n",
    "For 15 of the papers, however, the authorships remain disputed. (These papers can be identified from the `authorship.csv` file because the \"Author\" field is blank.) In this analysis, you will train a classifier on the papers with known authorships and use your classifier to predict the authorships of the disputed papers. The text of each paper can be found in the `/data301/data/federalist/` directory. The name of the file indicates the number of the paper."
   ]
  },
  {
   "cell_type": "markdown",
   "metadata": {},
   "source": [
    "## Question 1\n",
    "\n",
    "When analyzing an author's style, common words like \"the\" and \"on\" are actually more useful than rare words like \"hostilities\". That is because rare words typically signify context. Context is useful if you are trying to find documents about similar topics, but not so useful if you are trying to identify an author's style because different authors can write about the same topic. For example, both Dr. Seuss and Charles Dickens used rare words like \"chimney\" and \"stockings\" in _How the Grinch Stole Christmas_ and _A Christmas Carol_, respectively. But they used common words very differently: Dickens used the word \"upon\" over 100 times, while Dr. Seuss did not use \"upon\" at all.\n",
    "\n",
    "Read in the Federalist Papers. Convert each one into a vector of term frequencies. In order to restrict to common words, include only the top 50 words. Then, train a $k$-nearest neighbors model on the documents with known authorship. Determine an optimal value of $k$ (it's up to you to decide what's \"optimal\"). \n",
    "\n",
    "Report an estimate of the test accuracy, precision, and recall of your model."
   ]
  },
  {
   "cell_type": "code",
   "execution_count": null,
   "metadata": {},
   "outputs": [],
   "source": []
  },
  {
   "cell_type": "code",
   "execution_count": 1,
   "metadata": {
    "collapsed": true
   },
   "outputs": [],
   "source": [
    "# TYPE YOUR CODE HERE.\n",
    "%matplotlib inline\n",
    "import numpy as np\n",
    "import pandas as pd\n",
    "from collections import Counter\n",
    "from sklearn.feature_extraction.text import TfidfVectorizer\n",
    "from sklearn.feature_extraction.text import CountVectorizer\n",
    "#try both vectorizers\n",
    "authors = pd.read_csv(\"/data301/data/federalist/authorship.csv\")\n",
    "\n",
    "rows = []\n",
    "vec = TfidfVectorizer(norm=None)\n",
    "for i in range(1, 86):\n",
    "    article = \"/data301/data/federalist/\" + str(i) + \".txt\"\n",
    "    row = {}\n",
    "    row[\"text\"] = open(article).read()\n",
    "    rows.append(row)\n",
    "\n",
    "papers_pd = pd.DataFrame(rows)           \n"
   ]
  },
  {
   "cell_type": "code",
   "execution_count": 2,
   "metadata": {},
   "outputs": [
    {
     "data": {
      "text/html": [
       "<div>\n",
       "<style scoped>\n",
       "    .dataframe tbody tr th:only-of-type {\n",
       "        vertical-align: middle;\n",
       "    }\n",
       "\n",
       "    .dataframe tbody tr th {\n",
       "        vertical-align: top;\n",
       "    }\n",
       "\n",
       "    .dataframe thead th {\n",
       "        text-align: right;\n",
       "    }\n",
       "</style>\n",
       "<table border=\"1\" class=\"dataframe\">\n",
       "  <thead>\n",
       "    <tr style=\"text-align: right;\">\n",
       "      <th></th>\n",
       "      <th>text</th>\n",
       "    </tr>\n",
       "  </thead>\n",
       "  <tbody>\n",
       "    <tr>\n",
       "      <th>0</th>\n",
       "      <td>To the People of the State of New York:\\n\\nAFT...</td>\n",
       "    </tr>\n",
       "    <tr>\n",
       "      <th>1</th>\n",
       "      <td>To the People of the State of New York:\\n\\nWHE...</td>\n",
       "    </tr>\n",
       "    <tr>\n",
       "      <th>2</th>\n",
       "      <td>To the People of the State of New York:\\n\\nIT ...</td>\n",
       "    </tr>\n",
       "    <tr>\n",
       "      <th>3</th>\n",
       "      <td>To the People of the State of New York:\\n\\nMY ...</td>\n",
       "    </tr>\n",
       "    <tr>\n",
       "      <th>4</th>\n",
       "      <td>To the People of the State of New York:\\n\\nQUE...</td>\n",
       "    </tr>\n",
       "  </tbody>\n",
       "</table>\n",
       "</div>"
      ],
      "text/plain": [
       "                                                text\n",
       "0  To the People of the State of New York:\\n\\nAFT...\n",
       "1  To the People of the State of New York:\\n\\nWHE...\n",
       "2  To the People of the State of New York:\\n\\nIT ...\n",
       "3  To the People of the State of New York:\\n\\nMY ...\n",
       "4  To the People of the State of New York:\\n\\nQUE..."
      ]
     },
     "execution_count": 2,
     "metadata": {},
     "output_type": "execute_result"
    }
   ],
   "source": [
    "papers_pd.head()"
   ]
  },
  {
   "cell_type": "code",
   "execution_count": 3,
   "metadata": {},
   "outputs": [],
   "source": [
    "papers_pd[\"Author\"] = authors[\"Author\"]"
   ]
  },
  {
   "cell_type": "code",
   "execution_count": 4,
   "metadata": {},
   "outputs": [],
   "source": [
    "papers_pd=papers_pd.fillna(\"None\")"
   ]
  },
  {
   "cell_type": "code",
   "execution_count": 5,
   "metadata": {},
   "outputs": [
    {
     "data": {
      "text/html": [
       "<div>\n",
       "<style scoped>\n",
       "    .dataframe tbody tr th:only-of-type {\n",
       "        vertical-align: middle;\n",
       "    }\n",
       "\n",
       "    .dataframe tbody tr th {\n",
       "        vertical-align: top;\n",
       "    }\n",
       "\n",
       "    .dataframe thead th {\n",
       "        text-align: right;\n",
       "    }\n",
       "</style>\n",
       "<table border=\"1\" class=\"dataframe\">\n",
       "  <thead>\n",
       "    <tr style=\"text-align: right;\">\n",
       "      <th></th>\n",
       "      <th>text</th>\n",
       "      <th>Author</th>\n",
       "    </tr>\n",
       "  </thead>\n",
       "  <tbody>\n",
       "    <tr>\n",
       "      <th>0</th>\n",
       "      <td>To the People of the State of New York:\\n\\nAFT...</td>\n",
       "      <td>Hamilton</td>\n",
       "    </tr>\n",
       "    <tr>\n",
       "      <th>1</th>\n",
       "      <td>To the People of the State of New York:\\n\\nWHE...</td>\n",
       "      <td>Jay</td>\n",
       "    </tr>\n",
       "    <tr>\n",
       "      <th>2</th>\n",
       "      <td>To the People of the State of New York:\\n\\nIT ...</td>\n",
       "      <td>Jay</td>\n",
       "    </tr>\n",
       "    <tr>\n",
       "      <th>3</th>\n",
       "      <td>To the People of the State of New York:\\n\\nMY ...</td>\n",
       "      <td>Jay</td>\n",
       "    </tr>\n",
       "    <tr>\n",
       "      <th>4</th>\n",
       "      <td>To the People of the State of New York:\\n\\nQUE...</td>\n",
       "      <td>Jay</td>\n",
       "    </tr>\n",
       "    <tr>\n",
       "      <th>5</th>\n",
       "      <td>To the People of the State of New York:\\n\\nTHE...</td>\n",
       "      <td>Hamilton</td>\n",
       "    </tr>\n",
       "    <tr>\n",
       "      <th>6</th>\n",
       "      <td>To the People of the State of New York:\\n\\nIT ...</td>\n",
       "      <td>Hamilton</td>\n",
       "    </tr>\n",
       "    <tr>\n",
       "      <th>7</th>\n",
       "      <td>To the People of the State of New York:\\n\\nASS...</td>\n",
       "      <td>Hamilton</td>\n",
       "    </tr>\n",
       "    <tr>\n",
       "      <th>8</th>\n",
       "      <td>To the People of the State of New York:\\n\\nA F...</td>\n",
       "      <td>Hamilton</td>\n",
       "    </tr>\n",
       "    <tr>\n",
       "      <th>9</th>\n",
       "      <td>To the People of the State of New York:\\n\\nAMO...</td>\n",
       "      <td>Madison</td>\n",
       "    </tr>\n",
       "    <tr>\n",
       "      <th>10</th>\n",
       "      <td>To the People of the State of New York:\\n\\nTHE...</td>\n",
       "      <td>Hamilton</td>\n",
       "    </tr>\n",
       "    <tr>\n",
       "      <th>11</th>\n",
       "      <td>To the People of the State of New York:\\n\\nTHE...</td>\n",
       "      <td>Hamilton</td>\n",
       "    </tr>\n",
       "    <tr>\n",
       "      <th>12</th>\n",
       "      <td>To the People of the State of New York:\\n\\nAs ...</td>\n",
       "      <td>Hamilton</td>\n",
       "    </tr>\n",
       "    <tr>\n",
       "      <th>13</th>\n",
       "      <td>To the People of the State of New York:\\n\\nWE ...</td>\n",
       "      <td>Madison</td>\n",
       "    </tr>\n",
       "    <tr>\n",
       "      <th>14</th>\n",
       "      <td>To the People of the State of New York:\\n\\nIN ...</td>\n",
       "      <td>Hamilton</td>\n",
       "    </tr>\n",
       "    <tr>\n",
       "      <th>15</th>\n",
       "      <td>To the People of the State of New York:\\n\\nTHE...</td>\n",
       "      <td>Hamilton</td>\n",
       "    </tr>\n",
       "    <tr>\n",
       "      <th>16</th>\n",
       "      <td>To the People of the State of New York:\\n\\nAN ...</td>\n",
       "      <td>Hamilton</td>\n",
       "    </tr>\n",
       "    <tr>\n",
       "      <th>17</th>\n",
       "      <td>To the People of the State of New York:\\n\\nAMO...</td>\n",
       "      <td>None</td>\n",
       "    </tr>\n",
       "    <tr>\n",
       "      <th>18</th>\n",
       "      <td>To the People of the State of New York:\\n\\nTHE...</td>\n",
       "      <td>None</td>\n",
       "    </tr>\n",
       "    <tr>\n",
       "      <th>19</th>\n",
       "      <td>To the People of the State of New York:\\n\\nTHE...</td>\n",
       "      <td>None</td>\n",
       "    </tr>\n",
       "    <tr>\n",
       "      <th>20</th>\n",
       "      <td>To the People of the State of New York:\\n\\nHAV...</td>\n",
       "      <td>Hamilton</td>\n",
       "    </tr>\n",
       "    <tr>\n",
       "      <th>21</th>\n",
       "      <td>To the People of the State of New York:\\n\\nIN ...</td>\n",
       "      <td>Hamilton</td>\n",
       "    </tr>\n",
       "    <tr>\n",
       "      <th>22</th>\n",
       "      <td>To the People of the State of New York:\\n\\nTHE...</td>\n",
       "      <td>Hamilton</td>\n",
       "    </tr>\n",
       "    <tr>\n",
       "      <th>23</th>\n",
       "      <td>To the People of the State of New York:\\n\\nTO ...</td>\n",
       "      <td>Hamilton</td>\n",
       "    </tr>\n",
       "    <tr>\n",
       "      <th>24</th>\n",
       "      <td>To the People of the State of New York:\\n\\nIT ...</td>\n",
       "      <td>Hamilton</td>\n",
       "    </tr>\n",
       "    <tr>\n",
       "      <th>25</th>\n",
       "      <td>To the People of the State of New York:\\n\\nIT ...</td>\n",
       "      <td>Hamilton</td>\n",
       "    </tr>\n",
       "    <tr>\n",
       "      <th>26</th>\n",
       "      <td>To the People of the State of New York:\\n\\nIT ...</td>\n",
       "      <td>Hamilton</td>\n",
       "    </tr>\n",
       "    <tr>\n",
       "      <th>27</th>\n",
       "      <td>To the People of the State of New York:\\n\\nTHA...</td>\n",
       "      <td>Hamilton</td>\n",
       "    </tr>\n",
       "    <tr>\n",
       "      <th>28</th>\n",
       "      <td>To the People of the State of New York:\\n\\nTHE...</td>\n",
       "      <td>Hamilton</td>\n",
       "    </tr>\n",
       "    <tr>\n",
       "      <th>29</th>\n",
       "      <td>To the People of the State of New York:\\n\\nIT ...</td>\n",
       "      <td>Hamilton</td>\n",
       "    </tr>\n",
       "    <tr>\n",
       "      <th>...</th>\n",
       "      <td>...</td>\n",
       "      <td>...</td>\n",
       "    </tr>\n",
       "    <tr>\n",
       "      <th>55</th>\n",
       "      <td>To the People of the State of New York:\\n\\nTHE...</td>\n",
       "      <td>None</td>\n",
       "    </tr>\n",
       "    <tr>\n",
       "      <th>56</th>\n",
       "      <td>To the People of the State of New York:\\n\\nTHE...</td>\n",
       "      <td>None</td>\n",
       "    </tr>\n",
       "    <tr>\n",
       "      <th>57</th>\n",
       "      <td>To the People of the State of New York:\\n\\nTHE...</td>\n",
       "      <td>None</td>\n",
       "    </tr>\n",
       "    <tr>\n",
       "      <th>58</th>\n",
       "      <td>To the People of the State of New York:\\n\\nTHE...</td>\n",
       "      <td>Hamilton</td>\n",
       "    </tr>\n",
       "    <tr>\n",
       "      <th>59</th>\n",
       "      <td>To the People of the State of New York:\\n\\nWE ...</td>\n",
       "      <td>Hamilton</td>\n",
       "    </tr>\n",
       "    <tr>\n",
       "      <th>60</th>\n",
       "      <td>To the People of the State of New York:\\n\\nTHE...</td>\n",
       "      <td>Hamilton</td>\n",
       "    </tr>\n",
       "    <tr>\n",
       "      <th>61</th>\n",
       "      <td>To the People of the State of New York:\\n\\nHAV...</td>\n",
       "      <td>None</td>\n",
       "    </tr>\n",
       "    <tr>\n",
       "      <th>62</th>\n",
       "      <td>To the People of the State of New York:\\n\\nA F...</td>\n",
       "      <td>None</td>\n",
       "    </tr>\n",
       "    <tr>\n",
       "      <th>63</th>\n",
       "      <td>To the People of the State of New York:\\n\\nIT ...</td>\n",
       "      <td>Jay</td>\n",
       "    </tr>\n",
       "    <tr>\n",
       "      <th>64</th>\n",
       "      <td>To the People of the State of New York:\\n\\nTHE...</td>\n",
       "      <td>Hamilton</td>\n",
       "    </tr>\n",
       "    <tr>\n",
       "      <th>65</th>\n",
       "      <td>To the People of the State of New York:\\n\\nA R...</td>\n",
       "      <td>Hamilton</td>\n",
       "    </tr>\n",
       "    <tr>\n",
       "      <th>66</th>\n",
       "      <td>To the People of the State of New York:\\n\\nTHE...</td>\n",
       "      <td>Hamilton</td>\n",
       "    </tr>\n",
       "    <tr>\n",
       "      <th>67</th>\n",
       "      <td>To the People of the State of New York:\\n\\nTHE...</td>\n",
       "      <td>Hamilton</td>\n",
       "    </tr>\n",
       "    <tr>\n",
       "      <th>68</th>\n",
       "      <td>To the People of the State of New York:\\n\\nI P...</td>\n",
       "      <td>Hamilton</td>\n",
       "    </tr>\n",
       "    <tr>\n",
       "      <th>69</th>\n",
       "      <td>To the People of the State of New York:\\n\\nTHE...</td>\n",
       "      <td>Hamilton</td>\n",
       "    </tr>\n",
       "    <tr>\n",
       "      <th>70</th>\n",
       "      <td>To the People of the State of New York:\\n\\nDUR...</td>\n",
       "      <td>Hamilton</td>\n",
       "    </tr>\n",
       "    <tr>\n",
       "      <th>71</th>\n",
       "      <td>To the People of the State of New York:\\n\\nTHE...</td>\n",
       "      <td>Hamilton</td>\n",
       "    </tr>\n",
       "    <tr>\n",
       "      <th>72</th>\n",
       "      <td>To the People of the State of New York:\\n\\nTHE...</td>\n",
       "      <td>Hamilton</td>\n",
       "    </tr>\n",
       "    <tr>\n",
       "      <th>73</th>\n",
       "      <td>To the People of the State of New York:\\n\\nTHE...</td>\n",
       "      <td>Hamilton</td>\n",
       "    </tr>\n",
       "    <tr>\n",
       "      <th>74</th>\n",
       "      <td>To the People of the State of New York:\\n\\nTHE...</td>\n",
       "      <td>Hamilton</td>\n",
       "    </tr>\n",
       "    <tr>\n",
       "      <th>75</th>\n",
       "      <td>To the People of the State of New York:\\n\\nTHE...</td>\n",
       "      <td>Hamilton</td>\n",
       "    </tr>\n",
       "    <tr>\n",
       "      <th>76</th>\n",
       "      <td>To the People of the State of New York:\\n\\nIT ...</td>\n",
       "      <td>Hamilton</td>\n",
       "    </tr>\n",
       "    <tr>\n",
       "      <th>77</th>\n",
       "      <td>To the People of the State of New York:\\n\\nWE ...</td>\n",
       "      <td>Hamilton</td>\n",
       "    </tr>\n",
       "    <tr>\n",
       "      <th>78</th>\n",
       "      <td>To the People of the State of New York:\\n\\nNEX...</td>\n",
       "      <td>Hamilton</td>\n",
       "    </tr>\n",
       "    <tr>\n",
       "      <th>79</th>\n",
       "      <td>To the People of the State of New York:\\n\\nTO ...</td>\n",
       "      <td>Hamilton</td>\n",
       "    </tr>\n",
       "    <tr>\n",
       "      <th>80</th>\n",
       "      <td>To the People of the State of New York:\\n\\nLET...</td>\n",
       "      <td>Hamilton</td>\n",
       "    </tr>\n",
       "    <tr>\n",
       "      <th>81</th>\n",
       "      <td>To the People of the State of New York:\\n\\nTHE...</td>\n",
       "      <td>Hamilton</td>\n",
       "    </tr>\n",
       "    <tr>\n",
       "      <th>82</th>\n",
       "      <td>To the People of the State of New York:\\n\\nTHE...</td>\n",
       "      <td>Hamilton</td>\n",
       "    </tr>\n",
       "    <tr>\n",
       "      <th>83</th>\n",
       "      <td>To the People of the State of New York:\\n\\nIN ...</td>\n",
       "      <td>Hamilton</td>\n",
       "    </tr>\n",
       "    <tr>\n",
       "      <th>84</th>\n",
       "      <td>To the People of the State of New York:\\n\\nACC...</td>\n",
       "      <td>Hamilton</td>\n",
       "    </tr>\n",
       "  </tbody>\n",
       "</table>\n",
       "<p>85 rows × 2 columns</p>\n",
       "</div>"
      ],
      "text/plain": [
       "                                                 text    Author\n",
       "0   To the People of the State of New York:\\n\\nAFT...  Hamilton\n",
       "1   To the People of the State of New York:\\n\\nWHE...       Jay\n",
       "2   To the People of the State of New York:\\n\\nIT ...       Jay\n",
       "3   To the People of the State of New York:\\n\\nMY ...       Jay\n",
       "4   To the People of the State of New York:\\n\\nQUE...       Jay\n",
       "5   To the People of the State of New York:\\n\\nTHE...  Hamilton\n",
       "6   To the People of the State of New York:\\n\\nIT ...  Hamilton\n",
       "7   To the People of the State of New York:\\n\\nASS...  Hamilton\n",
       "8   To the People of the State of New York:\\n\\nA F...  Hamilton\n",
       "9   To the People of the State of New York:\\n\\nAMO...   Madison\n",
       "10  To the People of the State of New York:\\n\\nTHE...  Hamilton\n",
       "11  To the People of the State of New York:\\n\\nTHE...  Hamilton\n",
       "12  To the People of the State of New York:\\n\\nAs ...  Hamilton\n",
       "13  To the People of the State of New York:\\n\\nWE ...   Madison\n",
       "14  To the People of the State of New York:\\n\\nIN ...  Hamilton\n",
       "15  To the People of the State of New York:\\n\\nTHE...  Hamilton\n",
       "16  To the People of the State of New York:\\n\\nAN ...  Hamilton\n",
       "17  To the People of the State of New York:\\n\\nAMO...      None\n",
       "18  To the People of the State of New York:\\n\\nTHE...      None\n",
       "19  To the People of the State of New York:\\n\\nTHE...      None\n",
       "20  To the People of the State of New York:\\n\\nHAV...  Hamilton\n",
       "21  To the People of the State of New York:\\n\\nIN ...  Hamilton\n",
       "22  To the People of the State of New York:\\n\\nTHE...  Hamilton\n",
       "23  To the People of the State of New York:\\n\\nTO ...  Hamilton\n",
       "24  To the People of the State of New York:\\n\\nIT ...  Hamilton\n",
       "25  To the People of the State of New York:\\n\\nIT ...  Hamilton\n",
       "26  To the People of the State of New York:\\n\\nIT ...  Hamilton\n",
       "27  To the People of the State of New York:\\n\\nTHA...  Hamilton\n",
       "28  To the People of the State of New York:\\n\\nTHE...  Hamilton\n",
       "29  To the People of the State of New York:\\n\\nIT ...  Hamilton\n",
       "..                                                ...       ...\n",
       "55  To the People of the State of New York:\\n\\nTHE...      None\n",
       "56  To the People of the State of New York:\\n\\nTHE...      None\n",
       "57  To the People of the State of New York:\\n\\nTHE...      None\n",
       "58  To the People of the State of New York:\\n\\nTHE...  Hamilton\n",
       "59  To the People of the State of New York:\\n\\nWE ...  Hamilton\n",
       "60  To the People of the State of New York:\\n\\nTHE...  Hamilton\n",
       "61  To the People of the State of New York:\\n\\nHAV...      None\n",
       "62  To the People of the State of New York:\\n\\nA F...      None\n",
       "63  To the People of the State of New York:\\n\\nIT ...       Jay\n",
       "64  To the People of the State of New York:\\n\\nTHE...  Hamilton\n",
       "65  To the People of the State of New York:\\n\\nA R...  Hamilton\n",
       "66  To the People of the State of New York:\\n\\nTHE...  Hamilton\n",
       "67  To the People of the State of New York:\\n\\nTHE...  Hamilton\n",
       "68  To the People of the State of New York:\\n\\nI P...  Hamilton\n",
       "69  To the People of the State of New York:\\n\\nTHE...  Hamilton\n",
       "70  To the People of the State of New York:\\n\\nDUR...  Hamilton\n",
       "71  To the People of the State of New York:\\n\\nTHE...  Hamilton\n",
       "72  To the People of the State of New York:\\n\\nTHE...  Hamilton\n",
       "73  To the People of the State of New York:\\n\\nTHE...  Hamilton\n",
       "74  To the People of the State of New York:\\n\\nTHE...  Hamilton\n",
       "75  To the People of the State of New York:\\n\\nTHE...  Hamilton\n",
       "76  To the People of the State of New York:\\n\\nIT ...  Hamilton\n",
       "77  To the People of the State of New York:\\n\\nWE ...  Hamilton\n",
       "78  To the People of the State of New York:\\n\\nNEX...  Hamilton\n",
       "79  To the People of the State of New York:\\n\\nTO ...  Hamilton\n",
       "80  To the People of the State of New York:\\n\\nLET...  Hamilton\n",
       "81  To the People of the State of New York:\\n\\nTHE...  Hamilton\n",
       "82  To the People of the State of New York:\\n\\nTHE...  Hamilton\n",
       "83  To the People of the State of New York:\\n\\nIN ...  Hamilton\n",
       "84  To the People of the State of New York:\\n\\nACC...  Hamilton\n",
       "\n",
       "[85 rows x 2 columns]"
      ]
     },
     "execution_count": 5,
     "metadata": {},
     "output_type": "execute_result"
    }
   ],
   "source": [
    "papers_pd"
   ]
  },
  {
   "cell_type": "markdown",
   "metadata": {},
   "source": [
    "Creates the known author dataframe and the unknown author dataframe."
   ]
  },
  {
   "cell_type": "code",
   "execution_count": 6,
   "metadata": {},
   "outputs": [],
   "source": [
    "Known = papers_pd[papers_pd[\"Author\"] != \"None\"]\n",
    "Unknown = papers_pd[papers_pd[\"Author\"] == \"None\"]"
   ]
  },
  {
   "cell_type": "markdown",
   "metadata": {},
   "source": [
    "I know this isn't the most effective approach, But I looked all over the internet and could nota short hand scikit learn way to find the top 50 most frequent words in the corpus. In the end I just used some for loops and accessing the dictionary so that I could use the top fifty words in my model."
   ]
  },
  {
   "cell_type": "code",
   "execution_count": 7,
   "metadata": {},
   "outputs": [],
   "source": [
    "vec = CountVectorizer()\n",
    "vec.fit(Known[\"text\"])\n",
    "X_train_dict = vec.transform(Known[\"text\"])\n",
    "mydict = {}\n",
    "for i, yuh in enumerate(sorted(vec.vocabulary_)):\n",
    "    mydict[yuh] = X_train_dict.sum(axis=0).tolist()[0][i]\n"
   ]
  },
  {
   "cell_type": "code",
   "execution_count": 8,
   "metadata": {},
   "outputs": [],
   "source": [
    "keys = []\n",
    "for combo in mydict:\n",
    "    if len(keys) < 50:\n",
    "        keys.append(combo)\n",
    "    else: \n",
    "        for i, item in enumerate(keys):\n",
    "            if mydict.get(combo) > mydict.get(item):\n",
    "                keys[i] = combo\n",
    "                break"
   ]
  },
  {
   "cell_type": "markdown",
   "metadata": {},
   "source": [
    "Here is a list of my top 50 words."
   ]
  },
  {
   "cell_type": "code",
   "execution_count": 9,
   "metadata": {},
   "outputs": [
    {
     "data": {
      "text/plain": [
       "['the',\n",
       " 'to',\n",
       " 'that',\n",
       " 'which',\n",
       " 'would',\n",
       " 'will',\n",
       " 'with',\n",
       " 'state',\n",
       " 'more',\n",
       " 'than',\n",
       " 'them',\n",
       " 'those',\n",
       " 'we',\n",
       " 'who',\n",
       " 'was',\n",
       " 'were',\n",
       " 'us',\n",
       " 'what',\n",
       " 'without',\n",
       " 'when',\n",
       " 'york',\n",
       " 'war',\n",
       " 'whole',\n",
       " 'yet',\n",
       " 'trial',\n",
       " 'view',\n",
       " 'within',\n",
       " 'whose',\n",
       " 'truth',\n",
       " 'support',\n",
       " 'whatever',\n",
       " 'whom',\n",
       " 'said',\n",
       " 'second',\n",
       " 'use',\n",
       " 'views',\n",
       " 'taken',\n",
       " 'taxation',\n",
       " 'able',\n",
       " 'taxes',\n",
       " 'trust',\n",
       " 'weight',\n",
       " 'years',\n",
       " 'through',\n",
       " 'you',\n",
       " 'various',\n",
       " 'wholly',\n",
       " 'world',\n",
       " 'success',\n",
       " 'thirteen']"
      ]
     },
     "execution_count": 9,
     "metadata": {},
     "output_type": "execute_result"
    }
   ],
   "source": [
    "keys"
   ]
  },
  {
   "cell_type": "code",
   "execution_count": 10,
   "metadata": {},
   "outputs": [],
   "source": [
    "\n",
    "from sklearn.neighbors import KNeighborsClassifier\n",
    "from sklearn.model_selection import cross_val_score\n",
    "from sklearn.metrics import precision_score\n",
    "from sklearn.metrics import accuracy_score\n",
    "from sklearn.metrics import recall_score\n",
    "\n",
    "X_train = Known.drop(columns = \"Author\")\n",
    "Y_train = Known[\"Author\"]\n",
    "\n",
    "vec = CountVectorizer(vocabulary=keys)\n",
    "vec.fit(Known[\"text\"])\n",
    "X_train_dict = vec.transform(Known[\"text\"])\n",
    "def get_accuracy_k(k):\n",
    "    model = KNeighborsClassifier(n_neighbors=k)\n",
    "    model.fit(X_train_dict, Y_train)\n",
    "    return cross_val_score(model,X_train_dict, Y_train,\\\n",
    "                           cv=5, scoring='accuracy').mean()\n",
    "def get_recall_k(k):\n",
    "    model = KNeighborsClassifier(n_neighbors=k)\n",
    "    model.fit(X_train_dict, Y_train)\n",
    "    y_train_pred = model.predict(X_train_dict)\n",
    "    return (recall_score(Y_train, y_train_pred, average = 'micro') +\\\n",
    "           recall_score(Y_train, y_train_pred, average = 'micro') +\\\n",
    "           recall_score(Y_train, y_train_pred, average = 'micro'))/3\n",
    "def get_precision_k(k):\n",
    "    model = KNeighborsClassifier(n_neighbors=k)\n",
    "    model.fit(X_train_dict, Y_train)\n",
    "    y_train_pred = model.predict(X_train_dict)\n",
    "    return (precision_score(Y_train, y_train_pred, average = 'micro') +\\\n",
    "           precision_score(Y_train, y_train_pred, average = 'micro') +\\\n",
    "           precision_score(Y_train, y_train_pred, average = 'micro'))/3\n",
    "#precision_score(y_train, y_train_pred, pos_label=\"red\"),"
   ]
  },
  {
   "cell_type": "code",
   "execution_count": 11,
   "metadata": {},
   "outputs": [],
   "source": [
    "ks=pd.Series(range(1,50))\n",
    "ks.index=range(1,50)\n",
    "accuracys_ks = ks.apply(get_accuracy_k)\n",
    "recalls_ks = ks.apply(get_recall_k)\n",
    "precisions_ks = ks.apply(get_precision_k)\n"
   ]
  },
  {
   "cell_type": "code",
   "execution_count": 12,
   "metadata": {},
   "outputs": [
    {
     "data": {
      "text/plain": [
       "(6, 1, 1)"
      ]
     },
     "execution_count": 12,
     "metadata": {},
     "output_type": "execute_result"
    },
    {
     "data": {
      "image/png": "[encoded data removed]",
      "text/plain": [
       "<Figure size 432x288 with 1 Axes>"
      ]
     },
     "metadata": {
      "needs_background": "light"
     },
     "output_type": "display_data"
    }
   ],
   "source": [
    "accuracys_ks.plot.line()\n",
    "recalls_ks.plot.line()\n",
    "precisions_ks.plot.line()\n",
    "accuracys_ks.idxmax(),recalls_ks.idxmax(), precisions_ks.idxmax()"
   ]
  },
  {
   "cell_type": "code",
   "execution_count": 13,
   "metadata": {},
   "outputs": [
    {
     "data": {
      "text/plain": [
       "(0.771941391941392, 0.81428571428571439, 0.81428571428571439)"
      ]
     },
     "execution_count": 13,
     "metadata": {},
     "output_type": "execute_result"
    }
   ],
   "source": [
    "accuracys_ks[6], recalls_ks[6], precisions_ks[6]"
   ]
  },
  {
   "cell_type": "markdown",
   "metadata": {},
   "source": [
    "Here is the report on the scores of accuracy, recall, and precision for a  KNeighborsClassifier with n_neighbors of 6."
   ]
  },
  {
   "cell_type": "markdown",
   "metadata": {},
   "source": [
    "**SUMMARIZE WHAT YOU DISCOVERED HERE.**"
   ]
  },
  {
   "cell_type": "markdown",
   "metadata": {},
   "source": [
    "It appears that obviously a neighbor of just one will result in a score of 1 for recall and precision, whereas when I used recall, I got that 6 was the best k in order to get the best accuracy score. I do recognize that this could be because I used cross_val_score for accuracy and not the other. However I could not get cross_val_score to work for precision or recall."
   ]
  },
  {
   "cell_type": "markdown",
   "metadata": {},
   "source": [
    "## Question 2\n",
    "\n",
    "What if we used TF-IDF on the top 50 words instead of the term frequencies? Repeat Question 1, using TF-IDF instead of TF. Which approach is better: TF-IDF or TF?"
   ]
  },
  {
   "cell_type": "markdown",
   "metadata": {},
   "source": [
    "Reset the vectorizer to be the TFIDFVectorizer"
   ]
  },
  {
   "cell_type": "code",
   "execution_count": 14,
   "metadata": {},
   "outputs": [],
   "source": [
    "# TYPE YOUR CODE HERE.\n",
    "\n",
    "from sklearn.feature_extraction.text import TfidfVectorizer\n",
    "\n",
    "vec = TfidfVectorizer(vocabulary=keys)\n",
    "vec.fit(Known[\"text\"])\n",
    "X_train_dict = vec.transform(Known[\"text\"])"
   ]
  },
  {
   "cell_type": "code",
   "execution_count": 15,
   "metadata": {},
   "outputs": [],
   "source": [
    "ks=pd.Series(range(1,50))\n",
    "ks.index=range(1,50)\n",
    "accuracys_ks = ks.apply(get_accuracy_k)\n",
    "recalls_ks = ks.apply(get_recall_k)\n",
    "precisions_ks = ks.apply(get_precision_k)\n"
   ]
  },
  {
   "cell_type": "code",
   "execution_count": 16,
   "metadata": {},
   "outputs": [
    {
     "data": {
      "text/plain": [
       "(8, 1, 1)"
      ]
     },
     "execution_count": 16,
     "metadata": {},
     "output_type": "execute_result"
    },
    {
     "data": {
      "image/png": "[encoded data removed]",
      "text/plain": [
       "<Figure size 432x288 with 1 Axes>"
      ]
     },
     "metadata": {
      "needs_background": "light"
     },
     "output_type": "display_data"
    }
   ],
   "source": [
    "accuracys_ks.plot.line()\n",
    "recalls_ks.plot.line()\n",
    "precisions_ks.plot.line()\n",
    "accuracys_ks.idxmax(),recalls_ks.idxmax(), precisions_ks.idxmax()"
   ]
  },
  {
   "cell_type": "code",
   "execution_count": 17,
   "metadata": {},
   "outputs": [
    {
     "data": {
      "text/plain": [
       "(0.81604395604395619, 0.80000000000000016, 0.80000000000000016)"
      ]
     },
     "execution_count": 17,
     "metadata": {},
     "output_type": "execute_result"
    }
   ],
   "source": [
    "accuracys_ks[8], recalls_ks[8], precisions_ks[8]"
   ]
  },
  {
   "cell_type": "markdown",
   "metadata": {},
   "source": [
    "Here is the report on the scores of accuracy, recall, and precision for a  KNeighborsClassifier with n_neighbors of 8."
   ]
  },
  {
   "cell_type": "markdown",
   "metadata": {},
   "source": [
    "**SUMMARIZE WHAT YOU DISCOVERED HERE.**"
   ]
  },
  {
   "cell_type": "markdown",
   "metadata": {},
   "source": [
    "Here we see similar trends as using countvectorizer, but this time, we get that a k = 8 is the most optimal k from our accuracy score."
   ]
  },
  {
   "cell_type": "markdown",
   "metadata": {},
   "source": [
    "## Question 3\n",
    "\n",
    "Using the model that you determined to be best in Questions 1 and 2, fit a $k$-nearest neighbors model to all 70 documents with known authorship. Create a [confusion matrix](https://en.wikipedia.org/wiki/Confusion_matrix) for your model that shows how often you predicted Hamilton, Jay, or Madison, and how often it actually was Hamilton, Jay, or Madison (on the training data, of course). \n",
    "\n",
    "From your confusion matrix, you should be able to calculate the (training) precision and recall of your model for predicting Hamilton. What is it?"
   ]
  },
  {
   "cell_type": "code",
   "execution_count": 18,
   "metadata": {},
   "outputs": [
    {
     "name": "stderr",
     "output_type": "stream",
     "text": [
      "/opt/conda/lib/python3.6/site-packages/ipykernel_launcher.py:8: SettingWithCopyWarning: \n",
      "A value is trying to be set on a copy of a slice from a DataFrame.\n",
      "Try using .loc[row_indexer,col_indexer] = value instead\n",
      "\n",
      "See the caveats in the documentation: http://pandas.pydata.org/pandas-docs/stable/indexing.html#indexing-view-versus-copy\n",
      "  \n"
     ]
    }
   ],
   "source": [
    "# TYPE YOUR CODE HERE\n",
    "vec = CountVectorizer(vocabulary=keys)\n",
    "vec.fit(Known[\"text\"])\n",
    "X_train_dict = vec.transform(Known[\"text\"])\n",
    "model = KNeighborsClassifier(n_neighbors=6)\n",
    "model.fit(X_train_dict, Y_train)\n",
    "Cpred=model.predict(X_train_dict)\n",
    "Known[\"Cpred\"] = Cpred"
   ]
  },
  {
   "cell_type": "code",
   "execution_count": 19,
   "metadata": {},
   "outputs": [
    {
     "data": {
      "text/plain": [
       "array([[51,  0,  0],\n",
       "       [ 5,  0,  0],\n",
       "       [ 8,  0,  6]])"
      ]
     },
     "execution_count": 19,
     "metadata": {},
     "output_type": "execute_result"
    }
   ],
   "source": [
    "from sklearn.metrics import confusion_matrix\n",
    "confusion_matrix(Known[\"Author\"], Known[\"Cpred\"], labels=None, sample_weight=None)"
   ]
  },
  {
   "cell_type": "code",
   "execution_count": 20,
   "metadata": {},
   "outputs": [
    {
     "name": "stderr",
     "output_type": "stream",
     "text": [
      "/opt/conda/lib/python3.6/site-packages/ipykernel_launcher.py:7: SettingWithCopyWarning: \n",
      "A value is trying to be set on a copy of a slice from a DataFrame.\n",
      "Try using .loc[row_indexer,col_indexer] = value instead\n",
      "\n",
      "See the caveats in the documentation: http://pandas.pydata.org/pandas-docs/stable/indexing.html#indexing-view-versus-copy\n",
      "  import sys\n"
     ]
    }
   ],
   "source": [
    "vec = TfidfVectorizer(vocabulary=keys)\n",
    "vec.fit(Known[\"text\"])\n",
    "X_train_dict = vec.transform(Known[\"text\"])\n",
    "model = KNeighborsClassifier(n_neighbors=8)\n",
    "model.fit(X_train_dict, Y_train)\n",
    "Tpred=model.predict(X_train_dict)\n",
    "Known[\"Tpred\"] = Tpred"
   ]
  },
  {
   "cell_type": "code",
   "execution_count": 21,
   "metadata": {},
   "outputs": [
    {
     "data": {
      "text/plain": [
       "array([[49,  0,  2],\n",
       "       [ 5,  0,  0],\n",
       "       [ 7,  0,  7]])"
      ]
     },
     "execution_count": 21,
     "metadata": {},
     "output_type": "execute_result"
    }
   ],
   "source": [
    "confusion_matrix(Known[\"Author\"], Known[\"Tpred\"], labels=None, sample_weight=None)"
   ]
  },
  {
   "cell_type": "markdown",
   "metadata": {},
   "source": [
    "Hamilton is the first column, then Madison and Jay. This orienatation is folowed for the rows."
   ]
  },
  {
   "cell_type": "markdown",
   "metadata": {},
   "source": [
    "**SUMMARIZE WHAT YOU DISCOVERED HERE.**"
   ]
  },
  {
   "cell_type": "markdown",
   "metadata": {},
   "source": [
    "Because there are so many papers written by Hamilton in the known papers, It appears that both models want to favor him as the wuthor of the unknown author papers. I do see however that neither models guessed correctly on Madison, but the model with the countvectorizer was able to correctly guess that Hamilton wrote the paper and got a few to correctly be guesses on Jay. Whereas the Model using tfidf missed 2 papers written by Hamilton and mistaken as Jay."
   ]
  },
  {
   "cell_type": "markdown",
   "metadata": {},
   "source": [
    "## Question 4\n",
    "\n",
    "Finally, use the model you trained in Question 3 to predict the authorships of the 15 documents with unknown authors. Summarize what you find."
   ]
  },
  {
   "cell_type": "code",
   "execution_count": 22,
   "metadata": {
    "collapsed": true
   },
   "outputs": [
    {
     "name": "stderr",
     "output_type": "stream",
     "text": [
      "/opt/conda/lib/python3.6/site-packages/ipykernel_launcher.py:9: SettingWithCopyWarning: \n",
      "A value is trying to be set on a copy of a slice from a DataFrame.\n",
      "Try using .loc[row_indexer,col_indexer] = value instead\n",
      "\n",
      "See the caveats in the documentation: http://pandas.pydata.org/pandas-docs/stable/indexing.html#indexing-view-versus-copy\n",
      "  if __name__ == '__main__':\n"
     ]
    },
    {
     "data": {
      "text/html": [
       "<div>\n",
       "<style scoped>\n",
       "    .dataframe tbody tr th:only-of-type {\n",
       "        vertical-align: middle;\n",
       "    }\n",
       "\n",
       "    .dataframe tbody tr th {\n",
       "        vertical-align: top;\n",
       "    }\n",
       "\n",
       "    .dataframe thead th {\n",
       "        text-align: right;\n",
       "    }\n",
       "</style>\n",
       "<table border=\"1\" class=\"dataframe\">\n",
       "  <thead>\n",
       "    <tr style=\"text-align: right;\">\n",
       "      <th></th>\n",
       "      <th>text</th>\n",
       "      <th>Author</th>\n",
       "    </tr>\n",
       "  </thead>\n",
       "  <tbody>\n",
       "    <tr>\n",
       "      <th>17</th>\n",
       "      <td>To the People of the State of New York:\\n\\nAMO...</td>\n",
       "      <td>Hamilton</td>\n",
       "    </tr>\n",
       "    <tr>\n",
       "      <th>18</th>\n",
       "      <td>To the People of the State of New York:\\n\\nTHE...</td>\n",
       "      <td>Hamilton</td>\n",
       "    </tr>\n",
       "    <tr>\n",
       "      <th>19</th>\n",
       "      <td>To the People of the State of New York:\\n\\nTHE...</td>\n",
       "      <td>Hamilton</td>\n",
       "    </tr>\n",
       "    <tr>\n",
       "      <th>48</th>\n",
       "      <td>To the People of the State of New York:\\n\\nTHE...</td>\n",
       "      <td>Hamilton</td>\n",
       "    </tr>\n",
       "    <tr>\n",
       "      <th>49</th>\n",
       "      <td>To the People of the State of New York:\\n\\nIT ...</td>\n",
       "      <td>Hamilton</td>\n",
       "    </tr>\n",
       "    <tr>\n",
       "      <th>50</th>\n",
       "      <td>To the People of the State of New York:\\n\\nTO ...</td>\n",
       "      <td>Hamilton</td>\n",
       "    </tr>\n",
       "    <tr>\n",
       "      <th>51</th>\n",
       "      <td>To the People of the State of New York:\\n\\nFRO...</td>\n",
       "      <td>Hamilton</td>\n",
       "    </tr>\n",
       "    <tr>\n",
       "      <th>52</th>\n",
       "      <td>To the People of the State of New York:\\n\\nI S...</td>\n",
       "      <td>Hamilton</td>\n",
       "    </tr>\n",
       "    <tr>\n",
       "      <th>53</th>\n",
       "      <td>To the People of the State of New York:\\n\\nTHE...</td>\n",
       "      <td>Hamilton</td>\n",
       "    </tr>\n",
       "    <tr>\n",
       "      <th>54</th>\n",
       "      <td>To the People of the State of New York:\\n\\nTHE...</td>\n",
       "      <td>Hamilton</td>\n",
       "    </tr>\n",
       "    <tr>\n",
       "      <th>55</th>\n",
       "      <td>To the People of the State of New York:\\n\\nTHE...</td>\n",
       "      <td>Hamilton</td>\n",
       "    </tr>\n",
       "    <tr>\n",
       "      <th>56</th>\n",
       "      <td>To the People of the State of New York:\\n\\nTHE...</td>\n",
       "      <td>Hamilton</td>\n",
       "    </tr>\n",
       "    <tr>\n",
       "      <th>57</th>\n",
       "      <td>To the People of the State of New York:\\n\\nTHE...</td>\n",
       "      <td>Hamilton</td>\n",
       "    </tr>\n",
       "    <tr>\n",
       "      <th>61</th>\n",
       "      <td>To the People of the State of New York:\\n\\nHAV...</td>\n",
       "      <td>Hamilton</td>\n",
       "    </tr>\n",
       "    <tr>\n",
       "      <th>62</th>\n",
       "      <td>To the People of the State of New York:\\n\\nA F...</td>\n",
       "      <td>Madison</td>\n",
       "    </tr>\n",
       "  </tbody>\n",
       "</table>\n",
       "</div>"
      ],
      "text/plain": [
       "                                                 text    Author\n",
       "17  To the People of the State of New York:\\n\\nAMO...  Hamilton\n",
       "18  To the People of the State of New York:\\n\\nTHE...  Hamilton\n",
       "19  To the People of the State of New York:\\n\\nTHE...  Hamilton\n",
       "48  To the People of the State of New York:\\n\\nTHE...  Hamilton\n",
       "49  To the People of the State of New York:\\n\\nIT ...  Hamilton\n",
       "50  To the People of the State of New York:\\n\\nTO ...  Hamilton\n",
       "51  To the People of the State of New York:\\n\\nFRO...  Hamilton\n",
       "52  To the People of the State of New York:\\n\\nI S...  Hamilton\n",
       "53  To the People of the State of New York:\\n\\nTHE...  Hamilton\n",
       "54  To the People of the State of New York:\\n\\nTHE...  Hamilton\n",
       "55  To the People of the State of New York:\\n\\nTHE...  Hamilton\n",
       "56  To the People of the State of New York:\\n\\nTHE...  Hamilton\n",
       "57  To the People of the State of New York:\\n\\nTHE...  Hamilton\n",
       "61  To the People of the State of New York:\\n\\nHAV...  Hamilton\n",
       "62  To the People of the State of New York:\\n\\nA F...   Madison"
      ]
     },
     "execution_count": 22,
     "metadata": {},
     "output_type": "execute_result"
    }
   ],
   "source": [
    "\n",
    "vec = CountVectorizer(vocabulary=keys)\n",
    "vec.fit(Known[\"text\"])\n",
    "X_train_dict = vec.transform(Known[\"text\"])\n",
    "X_test_dict = vec.transform(Unknown[\"text\"])\n",
    "model = KNeighborsClassifier(n_neighbors=6)\n",
    "model.fit(X_train_dict, Y_train)\n",
    "predictions=model.predict(X_test_dict)\n",
    "Unknown[\"Author\"] = predictions\n",
    "Unknown"
   ]
  },
  {
   "cell_type": "markdown",
   "metadata": {},
   "source": [
    "**SUMMARIZE WHAT YOU DISCOVERED HERE.**"
   ]
  },
  {
   "cell_type": "markdown",
   "metadata": {},
   "source": [
    "All but one were predicted to be Hamilton. The last one which was article 62 was Madison. This makes sense as I said before, Because the majority of the known papers were written by Hamilton, It shows that our model would favor an unknown author to be Hamilton. I feel this dataset needs more papers written by the other two gentlemen, so that the authors will have an written an equal or close to equal amount of papers."
   ]
  },
  {
   "cell_type": "markdown",
   "metadata": {},
   "source": [
    "# Submission Instructions\n",
    "\n",
    "Once you are finished, follow these steps:\n",
    "\n",
    "1. Restart the kernel and re-run this notebook from beginning to end by going to `Kernel > Restart Kernel and Run All Cells`.\n",
    "2. If this process stops halfway through, that means there was an error. Correct the error and repeat Step 1 until the notebook runs from beginning to end.\n",
    "3. Double check that there is a number next to each code cell and that these numbers are in order.\n",
    "\n",
    "Then, submit your lab as follows:\n",
    "\n",
    "1. Go to `File > Export Notebook As > PDF`.\n",
    "2. Double check that the entire notebook, from beginning to end, is in this PDF file. (If the notebook is cut off, try first exporting the notebook to HTML and printing to PDF.)\n",
    "3. Upload the PDF [to PolyLearn](https://polylearn.calpoly.edu/AY_2018-2019/mod/assign/view.php?id=336786)."
   ]
  }
 ],
 "metadata": {
  "kernelspec": {
   "display_name": "Python 3",
   "language": "python",
   "name": "python3"
  },
  "language_info": {
   "codemirror_mode": {
    "name": "ipython",
    "version": 3
   },
   "file_extension": ".py",
   "mimetype": "text/x-python",
   "name": "python",
   "nbconvert_exporter": "python",
   "pygments_lexer": "ipython3",
   "version": "3.6.8"
  }
 },
 "nbformat": 4,
 "nbformat_minor": 2
}
